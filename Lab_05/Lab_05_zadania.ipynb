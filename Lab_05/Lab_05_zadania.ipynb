{
 "cells": [
  {
   "cell_type": "markdown",
   "metadata": {},
   "source": [
    "# <center>Krystian Kierklo 162430 grupa 2 </center>\n",
    "# <center>Zadania do wykonania </center>"
   ]
  },
  {
   "cell_type": "markdown",
   "metadata": {},
   "source": [
    "### Zadanie 1"
   ]
  },
  {
   "cell_type": "markdown",
   "metadata": {},
   "source": [
    "##### Znajdź macierz odwrotną poniższej macierzy\n",
    "** Wykonaj sprawdzenie: w tym celu zastosuj funkcję np.linalg.inv() oraz wykonaj mnożenie macierzy (podstawienie do wzoru) -> „natomiast zmodyfikowana macierz główna powinna mieć formę macierzy jednostkowej”\n",
    "Zastosuj komentarze w celu opisania kluczowych linijek kodu."
   ]
  },
  {
   "cell_type": "code",
   "execution_count": 51,
   "metadata": {},
   "outputs": [
    {
     "name": "stdout",
     "output_type": "stream",
     "text": [
      "Macierz odwrotna z mojej funkcji to: \n",
      " [[ 0.01333333  0.13666667  0.03333333 -0.01666667 -0.1       ]\n",
      " [-0.2         0.2         0.          0.          0.        ]\n",
      " [ 0.46666667 -0.46666667 -0.33333333  0.          0.33333333]\n",
      " [-0.12        0.145       0.45       -0.05833333 -0.18333333]\n",
      " [-0.53333333  0.28333333  0.16666667  0.25       -0.16666667]]\n",
      "\n",
      "Macierz główna po przejściu funkcji powinna być jednostkową: \n",
      " [[ 1.  0.  0.  0.  0.]\n",
      " [ 0.  1.  0.  0.  0.]\n",
      " [ 0.  0.  1.  0.  0.]\n",
      " [-0. -0. -0.  1.  0.]\n",
      " [-0. -0. -0. -0.  1.]]\n",
      "----------------------------------------------------------------------------------------\n",
      "\n",
      " Macierz odwrotna korzystając z funkcji numpy: \n",
      " [[ 1.33333333e-02  1.36666667e-01  3.33333333e-02 -1.66666667e-02\n",
      "  -1.00000000e-01]\n",
      " [-2.00000000e-01  2.00000000e-01 -1.25095552e-17  2.22044605e-18\n",
      "   1.25095552e-17]\n",
      " [ 4.66666667e-01 -4.66666667e-01 -3.33333333e-01 -7.68324798e-18\n",
      "   3.33333333e-01]\n",
      " [-1.20000000e-01  1.45000000e-01  4.50000000e-01 -5.83333333e-02\n",
      "  -1.83333333e-01]\n",
      " [-5.33333333e-01  2.83333333e-01  1.66666667e-01  2.50000000e-01\n",
      "  -1.66666667e-01]]\n"
     ]
    }
   ],
   "source": [
    "import copy\n",
    "\n",
    "import numpy as np\n",
    "\n",
    "# Tworzenie macierzy głównej\n",
    "macierz = np.array([[8, 1, 4, 2, 1],\n",
    "                   [8, 6, 4, 2, 1],\n",
    "                   [1, 2, 3, 4, 1],\n",
    "                   [8, 0, 6, 2, 5],\n",
    "                   [1, 9, 6, 4, 1]])\n",
    "\n",
    "def odwrotna(macierz: np.array):\n",
    "    # Kopia macierzy głównej tak jak w poleceniu\n",
    "    kopia_macierzy = copy.copy(macierz).astype(float)\n",
    "\n",
    "# Macierz jednostkowa o takich wymiarach jak macierz główna\n",
    "    jednostkowa = np.array([[0 for j in range(macierz.shape[0])] for i in range(macierz.shape[1])])\n",
    "    for i in range(jednostkowa.shape[0]):\n",
    "        for j in range(jednostkowa.shape[1]):\n",
    "            if i == j:\n",
    "                jednostkowa[i][j]=1\n",
    "\n",
    "# Kopia macierzy jednostkowej\n",
    "    kopia_jednostkowej = copy.copy(jednostkowa).astype(float)\n",
    "\n",
    "    # Długość macierzy głównej\n",
    "    dlugosc = len(macierz)\n",
    "\n",
    "    # Pętla przechodząca po dlugości macierzy głównej\n",
    "    for i in range(dlugosc):\n",
    "\n",
    "        #Wartość = 1 / konretna_wartość_przekątnej\n",
    "        wartosc_przekatna = 1 / kopia_macierzy[i][i]\n",
    "\n",
    "        # Pętla przechodząca po dlugości macierzy głównej\n",
    "        for j in range(dlugosc):\n",
    "            # Mnożenie wartości_przekątnej w każdej iteracji przez wszystkie kolumny i obu macierzach\n",
    "            kopia_macierzy[i][j] *= wartosc_przekatna\n",
    "            kopia_jednostkowej[i][j] *= wartosc_przekatna\n",
    "\n",
    "        # Zamiast tworzyć listę indeksów macierzy głównej robię po prostu pętlę w pętli\n",
    "\n",
    "        for k in range(dlugosc):\n",
    "\n",
    "            # Warunek sprawdzający czy nie jesteśmy aktualnie na przekątnej macierzy\n",
    "            if i != k:\n",
    "\n",
    "                # Zmienna trzymająca aktualną wartość\n",
    "                zmienna = kopia_macierzy[k][i]\n",
    "\n",
    "                # Pętla przechodzącą po długości macierzy głównej\n",
    "                for m in range(dlugosc):\n",
    "\n",
    "                    # Od wartości bazowej odejmujemy zmienną pomnożoną przez wartość,\n",
    "                    kopia_macierzy[k][m] -=  kopia_macierzy[i][m] * zmienna\n",
    "                    kopia_jednostkowej[k][m] -=  kopia_jednostkowej[i][m] * zmienna\n",
    "\n",
    "    return kopia_jednostkowej, kopia_macierzy\n",
    "\n",
    "\n",
    "\n",
    "\n",
    "print(\"Macierz odwrotna z mojej funkcji to: \\n\", odwrotna(macierz)[0])\n",
    "print(\"\\nMacierz główna po przejściu funkcji powinna być jednostkową: \\n\", odwrotna(macierz)[1])\n",
    "print(\"----------------------------------------------------------------------------------------\")\n",
    "print(\"\\n Macierz odwrotna korzystając z funkcji numpy: \\n\", np.linalg.inv(macierz))"
   ]
  },
  {
   "cell_type": "code",
   "execution_count": null,
   "metadata": {},
   "outputs": [],
   "source": []
  }
 ],
 "metadata": {
  "kernelspec": {
   "display_name": "Python 3 (ipykernel)",
   "language": "python",
   "name": "python3"
  },
  "language_info": {
   "codemirror_mode": {
    "name": "ipython",
    "version": 3
   },
   "file_extension": ".py",
   "mimetype": "text/x-python",
   "name": "python",
   "nbconvert_exporter": "python",
   "pygments_lexer": "ipython3",
   "version": "3.10.7"
  }
 },
 "nbformat": 4,
 "nbformat_minor": 1
}
