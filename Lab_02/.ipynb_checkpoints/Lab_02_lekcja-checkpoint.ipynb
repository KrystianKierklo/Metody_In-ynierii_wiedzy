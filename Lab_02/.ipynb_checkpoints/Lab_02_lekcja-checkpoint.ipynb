{
 "cells": [
  {
   "cell_type": "markdown",
   "metadata": {},
   "source": [
    "# <center> Krystian Kierklo 162430 grupa 2</center>"
   ]
  },
  {
   "cell_type": "markdown",
   "metadata": {},
   "source": [
    "# Mnożenie macierzy"
   ]
  },
  {
   "cell_type": "code",
   "execution_count": 3,
   "metadata": {
    "collapsed": true
   },
   "outputs": [
    {
     "name": "stdout",
     "output_type": "stream",
     "text": [
      "Mnożenie za pomocą np.dot() \n",
      " [[ 4  4 16]\n",
      " [ 7 21 23]\n",
      " [14 20 50]]\n",
      "\n",
      " Mnożenie za pomocą np.matmul() \n",
      " [[ 4  4 16]\n",
      " [ 7 21 23]\n",
      " [14 20 50]]\n",
      "\n",
      " Mnożenie za pomocą operatora @ \n",
      " [[ 4  4 16]\n",
      " [ 7 21 23]\n",
      " [14 20 50]]\n"
     ]
    }
   ],
   "source": [
    "import numpy as np\n",
    "\n",
    "A = np.array([2, 1, 1, 1, 3, 6, 4, 5, 5]).reshape(3,3)\n",
    "B = np.array([1, 0, 5, 2, 1, 6, 0, 3, 0]).reshape(3,3)\n",
    "\n",
    "C = np.dot(A,B)\n",
    "\n",
    "print(\"Mnożenie za pomocą np.dot() \\n\", C)\n",
    "\n",
    "#Dokumentacja NumPy ówi jednak, że używać np.dot() należy tylko do #obliczania iloczynu skalarnego dwóch jednwymiarówych wektorów, a nie do mnożenia macierzy\n",
    "\n",
    "D = np.matmul(A,B)\n",
    "E = A@B\n",
    "\n",
    "print(\"\\n Mnożenie za pomocą np.matmul() \\n\", D)\n",
    "print(\"\\n Mnożenie za pomocą operatora @ \\n\", E)"
   ]
  },
  {
   "cell_type": "markdown",
   "metadata": {},
   "source": [
    "# Rząd macierzy"
   ]
  },
  {
   "cell_type": "code",
   "execution_count": 4,
   "metadata": {},
   "outputs": [
    {
     "name": "stdout",
     "output_type": "stream",
     "text": [
      "Rank od A:  4\n"
     ]
    }
   ],
   "source": [
    "import numpy as np\n",
    "\n",
    "A = np.array([[6, 1, 1, 4],\n",
    "              [4, -2, 5, 1],\n",
    "              [2, 8, 7, 4],\n",
    "              [2, 2, 1, 3]])\n",
    "\n",
    "#Rank of a matrix\n",
    "print(\"Rank od A: \", np.linalg.matrix_rank(A)) #rząd"
   ]
  },
  {
   "cell_type": "markdown",
   "metadata": {},
   "source": [
    "# Wyznacznik macierzy"
   ]
  },
  {
   "cell_type": "markdown",
   "metadata": {},
   "source": [
    "### Obliczanie wyznacznika"
   ]
  },
  {
   "cell_type": "code",
   "execution_count": 6,
   "metadata": {},
   "outputs": [
    {
     "name": "stdout",
     "output_type": "stream",
     "text": [
      "Determinant of A:  -306.0\n"
     ]
    }
   ],
   "source": [
    "import numpy as np\n",
    "\n",
    "A = np.array([[6, 1, 1],\n",
    "              [4, -2, 5],\n",
    "              [2, 8, 7]])\n",
    "\n",
    "# Determinant of a matrix\n",
    "print(\"Determinant of A: \", np.linalg.det(A))"
   ]
  },
  {
   "cell_type": "markdown",
   "metadata": {},
   "source": [
    "# Transportowanie macierzy"
   ]
  },
  {
   "cell_type": "code",
   "execution_count": 7,
   "metadata": {},
   "outputs": [
    {
     "name": "stdout",
     "output_type": "stream",
     "text": [
      "[[ 4 -4 12]\n",
      " [ 3 -2  8]\n",
      " [ 2 -5 -7]\n",
      " [ 0  1  4]]\n"
     ]
    }
   ],
   "source": [
    "import numpy as np\n",
    "\n",
    "A = np.array([[4, 3, 2, 0],\n",
    "              [-4, -2, -5, 1],\n",
    "              [12, 8, -7, 4]])\n",
    "\n",
    "M = np.transpose(A)\n",
    "print(M)"
   ]
  }
 ],
 "metadata": {
  "kernelspec": {
   "display_name": "Python 3 (ipykernel)",
   "language": "python",
   "name": "python3"
  },
  "language_info": {
   "codemirror_mode": {
    "name": "ipython",
    "version": 3
   },
   "file_extension": ".py",
   "mimetype": "text/x-python",
   "name": "python",
   "nbconvert_exporter": "python",
   "pygments_lexer": "ipython3",
   "version": "3.10.7"
  }
 },
 "nbformat": 4,
 "nbformat_minor": 1
}
