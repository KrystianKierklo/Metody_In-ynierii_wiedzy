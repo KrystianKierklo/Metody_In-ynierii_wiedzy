{
 "cells": [
  {
   "cell_type": "markdown",
   "metadata": {},
   "source": [
    "# <center>Krystian Kierklo 162430 grupa 2 </center>\n",
    "# <center>Zadania do wykonania </center>"
   ]
  },
  {
   "cell_type": "markdown",
   "metadata": {},
   "source": [
    "### Zadanie 1\n",
    "##### Stwórz macierze i wykonaj poniższe działanie:\n",
    "        [2 1 1]   [1 0 5]\n",
    "        [1 3 6] x [2 1 6] = ?\n",
    "        [4 5 5]   [0 3 0]\n",
    "###### (To jest tylko przykład, kod ma działać dla każdej macierzy)\n",
    "#\n",
    "##### Twoja funkcja powinna wykonywac następujące czynności:\n",
    "###### - Zaakceptuj dwie macierze, A i B jako dane wejściowe\n",
    "###### - Sprawdź, czy mnożenie macierzy między A i B jest prawidłowe\n",
    "###### - Jeśli jest poprawna, pomóz dwie macierze A i B i zwróci macierz iloczynów C\n",
    "###### - W przeciwnym razie zwróć komunikat o błędzie, że macierze A i B nie mogą być pomnożone"
   ]
  },
  {
   "cell_type": "code",
   "execution_count": 88,
   "metadata": {
    "collapsed": true
   },
   "outputs": [
    {
     "name": "stdout",
     "output_type": "stream",
     "text": [
      "Wynikiem mnożenia macierzy a i b jest macierz: \n",
      " [[ 4  4 16]\n",
      " [ 7 21 23]\n",
      " [14 20 50]], której wymiary wynoszą: (3, 3)\n"
     ]
    }
   ],
   "source": [
    "import numpy as np\n",
    "\n",
    "#Aby móc pomnożyć macierze muszą one spełniać warunek mnożenia: Liczba kolumn macierzy A = Liczba wierszy macierzy B\n",
    "\n",
    "a = np.array([[2, 1, 1],\n",
    "              [1, 3, 6],\n",
    "              [4, 5, 5]])\n",
    "\n",
    "b = np.array([[1, 0, 5],\n",
    "              [2, 1, 6],\n",
    "              [0, 3, 0]])\n",
    "\n",
    "\n",
    "def mnozenieMacierzy(a: np.array, b: np.array): #Argumenty przekazywane do funkcji muszą być typu np.array\n",
    "    if a.shape[0] == b.shape[1]: #Sprawdzanie warunku czy liczba kolumn macierzy a jest równa liczbie wierszy macierzy b\n",
    "        wynik = np.zeros((a.shape[0], b.shape[1])).astype('int') #Stworzenie macierzy wypełnionej zerami o wymiarach macierzy #\n",
    "        # końcowej, którą później będę wypełniał poprawnymi wartościami.\n",
    "\n",
    "        for i in range(a.shape[0]): #a.shape[0] to liczba wierszy w macierzy a\n",
    "            for j in range(b.shape[1]): # b.shape[1] to liczba kolumn w macierzy b\n",
    "                for k in range(b.shape[1]): # b.shape[0] to liczba wierszy w macierzy b\n",
    "                    wynik[i][j] += a[i][k] * b[k][j] #uzupełnianie pól w macierzy wynikowej\n",
    "\n",
    "        return wynik #zwrócenie wyniku\n",
    "    else:\n",
    "        raise ValueError(\"Nie da się pomnożyć podanych macierzy ponieważ nie spełniają warunku!\") #Zwrócenie komunikatu o błędzie\n",
    "\n",
    "\n",
    "\n",
    "print(f\"Wynikiem mnożenia macierzy a i b jest macierz: \\n { mnozenieMacierzy(a, b)}, której wymiary wynoszą: \"\n",
    "      f\"{ mnozenieMacierzy(a, b).shape}\") # Wyświetlnie na konsoli\n"
   ]
  },
  {
   "cell_type": "markdown",
   "metadata": {},
   "source": [
    "### Zadanie 2\n",
    "##### Oblicz wyznacznik poniższej macierzy 3 x 3\n",
    "        [1 4 5]\n",
    "        [2 1 6]\n",
    "        [0 3 2]\n",
    "##### Napisz funkcję, która będzie działała dla każdej wprowadzonej macierzy 3 x 3"
   ]
  },
  {
   "cell_type": "code",
   "execution_count": 106,
   "metadata": {},
   "outputs": [
    {
     "name": "stdout",
     "output_type": "stream",
     "text": [
      "Wyznacznik macierzy \n",
      " [[1 4 5]\n",
      " [2 1 6]\n",
      " [0 3 2]] \n",
      " wynosi:  -2\n"
     ]
    }
   ],
   "source": [
    "import numpy as np\n",
    "\n",
    "a = np.array([[1, 4, 5],\n",
    "              [2, 1, 6],\n",
    "              [0, 3, 2]])\n",
    "\n",
    "# a = np.array([[-4, 2, 1],\n",
    "#               [4, 2, 3],\n",
    "#               [2, 1, 0]])\n",
    "\n",
    "def obliczWyznacznik(a: np.array): #Argument funkacji to np.array\n",
    "    if a.shape[0] != a.shape[1]: #Warunek sprawdzający czy macierz jest kwadratowa\n",
    "        raise ValueError(\"Podana macierz nie jest kwadratowa\")\n",
    "    elif a.shape[0] != 3 or a.shape[1] != 3: #sprawdzenie czy podana macierz jest macierzą 3 na 3\n",
    "        raise ValueError(\"Wprowadzona macierz nie jest macierzą 3 x 3\") #Komunikat o błędzie\n",
    "    else:\n",
    "        #korzystam z rozwinięcia laplaca względem 2 wiersza (Niestety nie działa to dla każdego przypadku)\n",
    "        # wynik = -a[1][0] * ((a[0][1] * a[2][2]) - (a[2][1] * a[0][2])) + a[1][1] * ((a[0][0] * a[2][2]) - (a[2][0] * a[0][2])) - a[1][2] * ((a[0][0]) * a[2][1]) - (a[2][0]*a[0][1])\n",
    "\n",
    "        #Więc skorzystałem z metody Sarrusa i dla każdego testowanego przezemnie przypadku działa\n",
    "        wynik = a[0][0]*a[1][1]*a[2][2] + a[0][1]*a[1][2]*a[2][0] + a[0][2]*a[1][0]*a[2][1] - a[0][2]*a[1][1]*a[2][0] - a[0][0] * a[1][2]*a[2][1] - a[0][1]*a[1][0]*a[2][2]\n",
    "\n",
    "    return wynik\n",
    "\n",
    "\n",
    "print(f\"Wyznacznik macierzy \\n {a} \\n wynosi: \", obliczWyznacznik(a))"
   ]
  },
  {
   "cell_type": "markdown",
   "metadata": {},
   "source": [
    "### Zadanie 3\n",
    "##### Mając poniższą macierz, napisz funkcję, która będzie odpowiedzialna za jej transponowanie.\n",
    "        [3 2 4 1 8 0]\n",
    "        [2 3 4 5 0 3]\n",
    "        [7 7 2 1 4 5]"
   ]
  },
  {
   "cell_type": "code",
   "execution_count": 35,
   "metadata": {},
   "outputs": [
    {
     "name": "stdout",
     "output_type": "stream",
     "text": [
      "Macierz oryginalna to: \n",
      " [[3 2 4 1 8 0]\n",
      " [2 3 4 5 0 3]\n",
      " [7 7 2 1 4 5]], i jej wymiary wynoszą: (3, 6) \n",
      "\n",
      "Macierz po transformacji to: \n",
      " [[3 2 7]\n",
      " [2 3 7]\n",
      " [4 4 2]\n",
      " [1 5 1]\n",
      " [8 0 4]\n",
      " [0 3 5]], i jej wymiary wynoszą: (6, 3)\n"
     ]
    }
   ],
   "source": [
    "import numpy as np\n",
    "\n",
    "a = np.array([[3, 2, 4, 1, 8, 0],\n",
    "              [2, 3, 4, 5, 0, 3],\n",
    "              [7, 7, 2, 1, 4, 5]])\n",
    "\n",
    "def transformacjaMacierzy(matrix: np.array): #Przekazany argument do funkcji musi być np.array\n",
    "    liczba_wierszy = matrix.shape[0] #Liczba wierszy w macierzy\n",
    "    liczba_kolumn = matrix.shape[1] #Liczba kolumn w macierzy\n",
    "\n",
    "    transported_matrix = np.zeros((liczba_kolumn, liczba_wierszy)).astype('int') #Stworzenie nowej macierzy wypełnionej zerami o wymiarach \"odwrotnych\" do macierzy początkowej poniewaz podczas transformacji właśnie taki rozmiar otrzymamy\n",
    "    for i in range(liczba_wierszy): # Pęla po całej macierzy\n",
    "        for j in range(liczba_kolumn):\n",
    "            transported_matrix[j][i] = matrix[i][j] #zamiana miejscami tak jak działa tranformacja\n",
    "\n",
    "    return transported_matrix\n",
    "\n",
    "\n",
    "print(f\"Macierz oryginalna to: \\n {a}, i jej wymiary wynoszą: {a.shape} \\n\") # wyświetlanie na konsoli\n",
    "\n",
    "print(f\"Macierz po transformacji to: \\n {transformacjaMacierzy(a)}, i jej wymiary wynoszą: {transformacjaMacierzy(a).shape}\")"
   ]
  },
  {
   "cell_type": "code",
   "execution_count": null,
   "metadata": {},
   "outputs": [],
   "source": []
  }
 ],
 "metadata": {
  "kernelspec": {
   "display_name": "Python 3 (ipykernel)",
   "language": "python",
   "name": "python3"
  },
  "language_info": {
   "codemirror_mode": {
    "name": "ipython",
    "version": 3
   },
   "file_extension": ".py",
   "mimetype": "text/x-python",
   "name": "python",
   "nbconvert_exporter": "python",
   "pygments_lexer": "ipython3",
   "version": "3.10.7"
  }
 },
 "nbformat": 4,
 "nbformat_minor": 1
}
