{
 "cells": [
  {
   "cell_type": "markdown",
   "metadata": {},
   "source": [
    " # <center>Krystian Kierklo 162430 grupa 2 </center>\n",
    "# <center>Zadania do wykonania </center>"
   ]
  },
  {
   "cell_type": "markdown",
   "metadata": {},
   "source": [
    "### Zadanie1\n",
    "##### Stwórz wektor [1 4 5 6 2 1 5 6 7 0]\n",
    "###### a) Usuń wartość o indeksie [5]\n",
    "###### b) Dodaj element, o wartości 8 na końcu wektora\n",
    "###### c) Dla wszystkich nieparzystych indeksów wektora dodaj +2 do wartości istniejącej\n",
    "###### d) Odwróc wektor tj. indeks ostatni staje się pierwszym itd..."
   ]
  },
  {
   "cell_type": "code",
   "execution_count": 31,
   "metadata": {},
   "outputs": [
    {
     "name": "stdout",
     "output_type": "stream",
     "text": [
      "Wektor na początku:  [1 4 5 6 2 1 5 6 7 0]\n",
      "a) Wektor po usunięciu wartości na indeksie 5 [1 4 5 6 2 5 6 7 0]\n",
      "b) Wektor po dodaniu wartości 8 na końcu:  [1 4 5 6 2 5 6 7 0 8]\n",
      "c) Wektor po dodaniu 2 dla nieparzystych indeksów:  [ 1  6  5  8  2  7  6  9  0 10]\n",
      "d) Wektor po odwróceniu:  [10  0  9  6  7  2  8  5  6  1]\n"
     ]
    }
   ],
   "source": [
    "import numpy as np\n",
    "\n",
    "\n",
    "wektor_z1 = np.array([1, 4, 5, 6, 2, 1, 5, 6, 7, 0])\n",
    "print(\"Wektor na początku: \", wektor_z1)\n",
    "\n",
    "wektor_z1 = np.delete(wektor_z1, 5)\n",
    "print(\"a) Wektor po usunięciu wartości na indeksie 5\", wektor_z1)\n",
    "\n",
    "wektor_z1 = np.append(wektor_z1, [8])\n",
    "print(\"b) Wektor po dodaniu wartości 8 na końcu: \", wektor_z1)\n",
    "\n",
    "for i in range(len(wektor_z1)):\n",
    "    if i%2 == 1:\n",
    "        wektor_z1[i] += 2\n",
    "print(\"c) Wektor po dodaniu 2 dla nieparzystych indeksów: \", wektor_z1)\n",
    "\n",
    "wektor_z1 = np.flip(wektor_z1)\n",
    "print(\"d) Wektor po odwróceniu: \", wektor_z1)"
   ]
  },
  {
   "cell_type": "markdown",
   "metadata": {},
   "source": [
    "### Zadanie 2\n",
    "##### Wyjaśnij i pokaż na przykładzie czym różni się mnożenie wektora przez skalar powstałego za pomocą funkcji np.array od listy zawierającej tak samo jak wektor numpy ciąg liczb.\n"
   ]
  },
  {
   "cell_type": "code",
   "execution_count": null,
   "metadata": {},
   "outputs": [],
   "source": []
  },
  {
   "cell_type": "markdown",
   "metadata": {},
   "source": [
    "### Zadanie 3\n",
    "##### Stwórz macierz\n",
    "                     [3 5 0]\n",
    "                     [2 6 1]\n",
    "                     [3 8 9]\n",
    "##### a) Zmień wartość pierwszego elementu macierzy na -2\n",
    "##### b) Zmień wartość elementu położonego w drugim wierszu, drugiej kolumnie na 44\n",
    "##### c) Zmień wartość ostatniego elementu macierzy na 0"
   ]
  },
  {
   "cell_type": "code",
   "execution_count": 35,
   "metadata": {},
   "outputs": [
    {
     "name": "stdout",
     "output_type": "stream",
     "text": [
      "Macierz do zadania 3: \n",
      " [[3 5 0]\n",
      " [2 6 1]\n",
      " [3 8 9]]\n",
      "\n",
      "a) Macierz po zmianie pierwszego elementu na -2: \n",
      " [[-2  5  0]\n",
      " [ 2  6  1]\n",
      " [ 3  8  9]]\n",
      "\n",
      "b) Macierz po zamianie elementu 2 drugim wierszu i w 2 kolumnie: \n",
      " [[-2  5  0]\n",
      " [ 2 44  1]\n",
      " [ 3  8  9]]\n",
      "\n",
      "c) Macierz po zamianie ostatniego elementu na 0: \n",
      " [[-2  5  0]\n",
      " [ 2 44  1]\n",
      " [ 3  8  0]]\n"
     ]
    }
   ],
   "source": [
    "import numpy as np\n",
    "\n",
    "macierz_z3 = np.array([[3, 5, 0], [2, 6, 1], [3, 8, 9]])\n",
    "print(\"Macierz do zadania 3: \\n\", macierz_z3)\n",
    "\n",
    "macierz_z3[0][0] = -2\n",
    "print(\"\\na) Macierz po zmianie pierwszego elementu na -2: \\n\", macierz_z3)\n",
    "\n",
    "macierz_z3[1][1] = 44\n",
    "print(\"\\nb) Macierz po zamianie elementu 2 drugim wierszu i w 2 kolumnie: \\n\", macierz_z3)\n",
    "\n",
    "macierz_z3[-1][-1] = 0\n",
    "print(\"\\nc) Macierz po zamianie ostatniego elementu na 0: \\n\", macierz_z3)"
   ]
  },
  {
   "cell_type": "markdown",
   "metadata": {},
   "source": [
    "### Zadanie 4\n",
    "##### Mając do dyspozycji macierz z zadania 3, zmień elementy o indeksach parzystych na 0."
   ]
  },
  {
   "cell_type": "code",
   "execution_count": 37,
   "metadata": {},
   "outputs": [
    {
     "name": "stdout",
     "output_type": "stream",
     "text": [
      "Macierz po zmianie elementów o indeksach parzystych na 0: \n",
      " [[ 0  5  0]\n",
      " [ 2 44  1]\n",
      " [ 0  8  0]]\n"
     ]
    }
   ],
   "source": [
    "macierz_z4 = macierz_z3.copy()\n",
    "\n",
    "for i in range(macierz_z4.shape[0]):\n",
    "    for j in range(macierz_z4.shape[1]):\n",
    "        if i%2 == 0 and j%2 == 0:\n",
    "            macierz_z4[i, j] = 0\n",
    "\n",
    "print(\"Macierz po zmianie elementów o indeksach parzystych na 0: \\n\", macierz_z4)"
   ]
  },
  {
   "cell_type": "markdown",
   "metadata": {},
   "source": [
    "### Zadanie 5\n",
    "##### Wykorzystując pętlę for w Python wykonaj następujące działanie na macierzach\n",
    "        [2 1 1]   [1 0 5]\n",
    "        [1 3 6] + [2 1 6] = ?\n",
    "        [4 5 5]   [0 3 0]"
   ]
  },
  {
   "cell_type": "code",
   "execution_count": 42,
   "metadata": {},
   "outputs": [
    {
     "name": "stdout",
     "output_type": "stream",
     "text": [
      "Macierz końcowa po dodawaniu: \n",
      " [[ 3  1  6]\n",
      " [ 3  4 12]\n",
      " [ 4  8  5]]\n"
     ]
    }
   ],
   "source": [
    "import numpy as np\n",
    "\n",
    "macierz_z5_1 = np.array([[2, 1, 1], [1, 3, 6], [4, 5, 5]])\n",
    "macierz_z5_2 = np.array([[1, 0, 5], [2, 1, 6], [0, 3, 0]])\n",
    "macierz_z5_wynik = np.zeros((macierz_z5_1.shape[0], macierz_z5_1.shape[1])).astype('int')\n",
    "\n",
    "for i in range(macierz_z5_1.shape[0]):\n",
    "    for j in range(macierz_z5_2.shape[1]):\n",
    "        macierz_z5_wynik[i][j] = macierz_z5_1[i][j] + macierz_z5_2[i][j]\n",
    "\n",
    "print(\"Macierz końcowa po dodawaniu: \\n\", macierz_z5_wynik)"
   ]
  },
  {
   "cell_type": "markdown",
   "metadata": {},
   "source": [
    "### Zadanie 6\n",
    "##### Wykorzystując bibliotekę TensorFlow stwórz tensor o wymiarach 4x4. Dokładnie opisz otrzymane dane."
   ]
  },
  {
   "cell_type": "code",
   "execution_count": 47,
   "metadata": {},
   "outputs": [
    {
     "name": "stdout",
     "output_type": "stream",
     "text": [
      "tf.Tensor(\n",
      "[[1 2 1 2]\n",
      " [2 1 2 1]\n",
      " [1 2 1 2]\n",
      " [2 1 2 1]], shape=(4, 4), dtype=int32)\n",
      "\n",
      " Liczba wymirów mojego tensora wynosi:  2\n"
     ]
    }
   ],
   "source": [
    "import tensorflow as tf\n",
    "\n",
    "tensor_z6 = tf.constant([[1, 2, 1, 2], [2, 1, 2, 1], [1, 2, 1, 2], [2, 1, 2, 1]])\n",
    "\n",
    "print(tensor_z6)\n",
    "print(\"\\n Liczba wymirów mojego tensora wynosi: \", tensor_z6.ndim)"
   ]
  },
  {
   "cell_type": "markdown",
   "metadata": {},
   "source": [
    "###### Tensor który stworzyłem to tensor rangi 2, ponieważ jego liczba wymiarów wynosi 2, Ma on kształ 4 na 4 ponieważ jego liczba kolumn i wierszy również wynosi 4. Mój tensor jest typu int, ponieważ zawiera dane tego typu (dokładniej int32)."
   ]
  }
 ],
 "metadata": {
  "kernelspec": {
   "display_name": "Python 3 (ipykernel)",
   "language": "python",
   "name": "python3"
  },
  "language_info": {
   "codemirror_mode": {
    "name": "ipython",
    "version": 3
   },
   "file_extension": ".py",
   "mimetype": "text/x-python",
   "name": "python",
   "nbconvert_exporter": "python",
   "pygments_lexer": "ipython3",
   "version": "3.10.7"
  }
 },
 "nbformat": 4,
 "nbformat_minor": 1
}
