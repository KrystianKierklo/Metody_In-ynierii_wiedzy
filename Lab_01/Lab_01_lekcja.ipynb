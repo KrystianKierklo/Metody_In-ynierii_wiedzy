{
 "cells": [
  {
   "cell_type": "markdown",
   "source": [
    "# <center> Krystian Kierklo 162430 grupa 2</center>"
   ],
   "metadata": {
    "collapsed": false
   }
  },
  {
   "cell_type": "markdown",
   "source": [
    "# 1. Wektory-wprowadzenie"
   ],
   "metadata": {
    "collapsed": false
   }
  },
  {
   "cell_type": "markdown",
   "source": [
    "### Tworzenie wektorów - python"
   ],
   "metadata": {
    "collapsed": false
   }
  },
  {
   "cell_type": "code",
   "execution_count": 1,
   "metadata": {
    "collapsed": true
   },
   "outputs": [
    {
     "name": "stdout",
     "output_type": "stream",
     "text": [
      "My vector:  [1 2 3 4 5]\n"
     ]
    }
   ],
   "source": [
    "import numpy as np\n",
    "\n",
    "my_vector1 = np.array([1,2,3,4,5])\n",
    "print(\"My vector: \", my_vector1)\n"
   ]
  },
  {
   "cell_type": "code",
   "execution_count": 2,
   "metadata": {},
   "outputs": [
    {
     "name": "stdout",
     "output_type": "stream",
     "text": [
      "My vector 2:  [0 1 2 3 4]\n",
      "My vector 3:  [0 2 4 6 8]\n"
     ]
    }
   ],
   "source": [
    "import numpy as np\n",
    "\n",
    "my_vector2 = np.arange(5)\n",
    "my_vector3 = np.arange(0, 10, 2)\n",
    "\n",
    "print(\"My vector 2: \", my_vector2)\n",
    "print(\"My vector 3: \", my_vector3)"
   ]
  },
  {
   "cell_type": "code",
   "execution_count": 3,
   "outputs": [
    {
     "name": "stdout",
     "output_type": "stream",
     "text": [
      "My vector 4:  [1.         1.71386422 2.42772844 3.14159265]\n"
     ]
    }
   ],
   "source": [
    "import numpy as np\n",
    "\n",
    "my_vector4 = np.linspace(1, np.pi, 4)\n",
    "\n",
    "print(\"My vector 4: \", my_vector4)"
   ],
   "metadata": {
    "collapsed": false
   }
  },
  {
   "cell_type": "markdown",
   "source": [
    "### Operacje na wektorach"
   ],
   "metadata": {
    "collapsed": false
   }
  },
  {
   "cell_type": "code",
   "execution_count": 4,
   "outputs": [
    {
     "name": "stdout",
     "output_type": "stream",
     "text": [
      "New vector with 1000 at the end:  [   0    1    2    3    4 1000]\n"
     ]
    }
   ],
   "source": [
    "import numpy as np\n",
    "\n",
    "my_vector4 = np.arange(5)\n",
    "new_vector = np.append(my_vector4,[1000])\n",
    "\n",
    "print(\"New vector with 1000 at the end: \", new_vector)"
   ],
   "metadata": {
    "collapsed": false
   }
  },
  {
   "cell_type": "code",
   "execution_count": 5,
   "outputs": [
    {
     "name": "stdout",
     "output_type": "stream",
     "text": [
      "Vector with value 8888 at the index 1:  [   0 8888    1    2    3    4]\n"
     ]
    }
   ],
   "source": [
    "import numpy as np\n",
    "\n",
    "my_vector4 = np.arange(5)\n",
    "new_vector_insert = np.insert(my_vector4, 1, 8888)\n",
    "\n",
    "print(\"Vector with value 8888 at the index 1: \", new_vector_insert)"
   ],
   "metadata": {
    "collapsed": false
   }
  },
  {
   "cell_type": "code",
   "execution_count": 10,
   "outputs": [
    {
     "name": "stdout",
     "output_type": "stream",
     "text": [
      "Based array:  [1 2 3 4 5] Array with removed value[0]:  [2 3 4 5]\n"
     ]
    }
   ],
   "source": [
    "import numpy as np\n",
    "\n",
    "arr = np.array([1, 2, 3, 4, 5])\n",
    "index = 0\n",
    "arr2 = np.delete(arr, index)\n",
    "\n",
    "print(\"Based array: \", arr, f\"Array with removed value[{index}]: \", arr2)"
   ],
   "metadata": {
    "collapsed": false
   }
  },
  {
   "cell_type": "markdown",
   "source": [
    "### Działania na wektorach"
   ],
   "metadata": {
    "collapsed": false
   }
  },
  {
   "cell_type": "markdown",
   "source": [
    "##### Dodawanie"
   ],
   "metadata": {
    "collapsed": false
   }
  },
  {
   "cell_type": "code",
   "execution_count": 11,
   "outputs": [
    {
     "name": "stdout",
     "output_type": "stream",
     "text": [
      "After adding using function:  [ 2  4  6  8 10]\n",
      "After adding without function:  [ 2  4  6  8 10]\n"
     ]
    }
   ],
   "source": [
    "import numpy as np\n",
    "\n",
    "vec1 = np.array([1, 2, 3, 4, 5])\n",
    "vec2 = np.array([1, 2, 3, 4, 5])\n",
    "\n",
    "adding1 = np.add(vec1, vec2)\n",
    "adding2 = vec1 + vec2\n",
    "\n",
    "print(\"After adding using function: \", adding1)\n",
    "print(\"After adding without function: \", adding2)"
   ],
   "metadata": {
    "collapsed": false
   }
  },
  {
   "cell_type": "markdown",
   "source": [
    "##### Odejmowanie"
   ],
   "metadata": {
    "collapsed": false
   }
  },
  {
   "cell_type": "code",
   "execution_count": 15,
   "outputs": [
    {
     "name": "stdout",
     "output_type": "stream",
     "text": [
      "After subtracting using function:  [-4 -2  0  2  4]\n",
      "After subtracting without function:  [-4 -2  0  2  4]\n"
     ]
    }
   ],
   "source": [
    "import numpy as np\n",
    "\n",
    "vec1 = np.array([1, 2, 3, 4, 5])\n",
    "vec2 = np.array([5, 4, 3, 2, 1])\n",
    "\n",
    "subtract1 = np.subtract(vec1,vec2)\n",
    "subtract2 = vec1-vec2\n",
    "\n",
    "print(\"After subtracting using function: \", subtract1)\n",
    "print(\"After subtracting without function: \", subtract2)"
   ],
   "metadata": {
    "collapsed": false
   }
  },
  {
   "cell_type": "markdown",
   "source": [
    "##### Mnożenie przez skalar"
   ],
   "metadata": {
    "collapsed": false
   }
  },
  {
   "cell_type": "code",
   "execution_count": 16,
   "outputs": [
    {
     "name": "stdout",
     "output_type": "stream",
     "text": [
      "[ 3  6  9 12 15]\n"
     ]
    }
   ],
   "source": [
    "import numpy as np\n",
    "\n",
    "vec1 = np.array([1, 2, 3, 4, 5])\n",
    "scalar = 3\n",
    "result = vec1 * scalar\n",
    "\n",
    "print(result)"
   ],
   "metadata": {
    "collapsed": false
   }
  },
  {
   "cell_type": "markdown",
   "source": [
    "##### Mnożenie i dzielenie"
   ],
   "metadata": {
    "collapsed": false
   }
  },
  {
   "cell_type": "code",
   "execution_count": 17,
   "outputs": [
    {
     "name": "stdout",
     "output_type": "stream",
     "text": [
      "After multipled using function:  [ 0  4  9  0 10]\n",
      "After multipled without function:  [ 0  4  9  0 10]\n"
     ]
    }
   ],
   "source": [
    "import numpy as np\n",
    "\n",
    "vec1 = np.array([1, 2, 3, 4, 5])\n",
    "vec2 = np.array([0, 2, 3, 0, 2])\n",
    "\n",
    "multiply1 = np.multiply(vec1, vec2)\n",
    "multiply2 = vec1 * vec2\n",
    "\n",
    "print(\"After multipled using function: \", multiply1)\n",
    "print(\"After multipled without function: \", multiply2)"
   ],
   "metadata": {
    "collapsed": false
   }
  },
  {
   "cell_type": "code",
   "execution_count": 34,
   "outputs": [
    {
     "name": "stdout",
     "output_type": "stream",
     "text": [
      "After divided using function:  [1. 1. 1. 2. 3.]\n",
      "After divided without function:  [1. 1. 1. 2. 3.]\n"
     ]
    }
   ],
   "source": [
    "import numpy as np\n",
    "\n",
    "vec1 = np.array([1, 2, 3, 4, 15])\n",
    "vec2 = np.array([1, 2, 3, 2, 5])\n",
    "\n",
    "divide1 = np.divide(vec1, vec2)\n",
    "divide2 = vec1/vec2\n",
    "\n",
    "print(\"After divided using function: \", divide1)\n",
    "print(\"After divided without function: \", divide2)"
   ],
   "metadata": {
    "collapsed": false
   }
  },
  {
   "cell_type": "markdown",
   "source": [
    "# 2. Macierze"
   ],
   "metadata": {
    "collapsed": false
   }
  },
  {
   "cell_type": "markdown",
   "source": [
    "### Macierze w python"
   ],
   "metadata": {
    "collapsed": false
   }
  },
  {
   "cell_type": "code",
   "execution_count": 19,
   "outputs": [
    {
     "name": "stdout",
     "output_type": "stream",
     "text": [
      "[[ 1  2  3  4 15]\n",
      " [ 2  4  6  8 10]]\n"
     ]
    }
   ],
   "source": [
    "import numpy as np\n",
    "\n",
    "matrix1 = np.array([[1, 2, 3, 4, 15], [2, 4, 6, 8 ,10]])\n",
    "\n",
    "print(matrix1)"
   ],
   "metadata": {
    "collapsed": false
   }
  },
  {
   "cell_type": "code",
   "execution_count": 23,
   "outputs": [
    {
     "data": {
      "text/plain": "array([[1, 2, 3],\n       [4, 5, 6],\n       [7, 8, 9]])"
     },
     "execution_count": 23,
     "metadata": {},
     "output_type": "execute_result"
    }
   ],
   "source": [
    "import numpy as np\n",
    "\n",
    "x = np.array([1, 2, 3, 4, 5, 6, 7, 8, 9]).reshape(3, 3)\n",
    "x"
   ],
   "metadata": {
    "collapsed": false
   }
  },
  {
   "cell_type": "code",
   "execution_count": 24,
   "outputs": [
    {
     "data": {
      "text/plain": "matrix([[1, 2, 3],\n        [4, 5, 6],\n        [7, 8, 9]])"
     },
     "execution_count": 24,
     "metadata": {},
     "output_type": "execute_result"
    }
   ],
   "source": [
    "import numpy as np\n",
    "\n",
    "m = np.array([1, 2, 3, 4, 5, 6, 7, 8, 9]).reshape(3, 3)\n",
    "\n",
    "X = np.matrix(m)\n",
    "X"
   ],
   "metadata": {
    "collapsed": false
   }
  },
  {
   "cell_type": "markdown",
   "source": [
    "### Poruszanie się po macierzach w python"
   ],
   "metadata": {
    "collapsed": false
   }
  },
  {
   "cell_type": "code",
   "execution_count": 25,
   "outputs": [
    {
     "name": "stdout",
     "output_type": "stream",
     "text": [
      "Frist element in matri:  1\n",
      "Middle element in matrix:  5\n",
      "Last element in matrix:  9\n"
     ]
    }
   ],
   "source": [
    "import numpy as np\n",
    "\n",
    "x = np.array([1, 2, 3, 4, 5, 6, 7, 8, 9]).reshape(3,3)\n",
    "\n",
    "first_value = x[0][0]\n",
    "middle_value = x[1][1]\n",
    "last_value = x[-1][-1]\n",
    "\n",
    "print(\"Frist element in matri: \", first_value)\n",
    "print(\"Middle element in matrix: \", middle_value)\n",
    "print(\"Last element in matrix: \", last_value)"
   ],
   "metadata": {
    "collapsed": false
   }
  },
  {
   "cell_type": "markdown",
   "source": [
    "### Macierz diagonalna"
   ],
   "metadata": {
    "collapsed": false
   }
  },
  {
   "cell_type": "code",
   "execution_count": 26,
   "outputs": [
    {
     "data": {
      "text/plain": "array([[1, 0, 0, 0],\n       [0, 2, 0, 0],\n       [0, 0, 3, 0],\n       [0, 0, 0, 4]])"
     },
     "execution_count": 26,
     "metadata": {},
     "output_type": "execute_result"
    }
   ],
   "source": [
    "import numpy as np\n",
    "\n",
    "a = np.diag((1, 2, 3, 4))\n",
    "a"
   ],
   "metadata": {
    "collapsed": false
   }
  },
  {
   "cell_type": "markdown",
   "source": [
    "### Inne gotowe funkcje NumPy na tworzenie macierzy"
   ],
   "metadata": {
    "collapsed": false
   }
  },
  {
   "cell_type": "code",
   "execution_count": 27,
   "outputs": [
    {
     "name": "stdout",
     "output_type": "stream",
     "text": [
      "[[0. 0. 0.]\n",
      " [0. 0. 0.]\n",
      " [0. 0. 0.]]\n",
      "[[1. 1. 1.]\n",
      " [1. 1. 1.]\n",
      " [1. 1. 1.]]\n"
     ]
    }
   ],
   "source": [
    "import numpy as np\n",
    "\n",
    "zeros = np.zeros((3, 3))\n",
    "\n",
    "print(zeros)\n",
    "\n",
    "ones = np.ones((3, 3))\n",
    "\n",
    "print(ones)"
   ],
   "metadata": {
    "collapsed": false
   }
  },
  {
   "cell_type": "markdown",
   "source": [
    "### Zmiana wartości elementów w istniejącej macierzy"
   ],
   "metadata": {
    "collapsed": false
   }
  },
  {
   "cell_type": "code",
   "execution_count": 28,
   "outputs": [
    {
     "name": "stdout",
     "output_type": "stream",
     "text": [
      "[[0. 0. 6.]\n",
      " [0. 0. 0.]\n",
      " [0. 0. 0.]]\n"
     ]
    }
   ],
   "source": [
    "x = zeros.copy()\n",
    "x[0][2] = 6\n",
    "\n",
    "print(x)"
   ],
   "metadata": {
    "collapsed": false
   }
  },
  {
   "cell_type": "markdown",
   "source": [
    "### Dodawanie i odejmowanie macierzy"
   ],
   "metadata": {
    "collapsed": false
   }
  },
  {
   "cell_type": "code",
   "execution_count": 29,
   "outputs": [],
   "source": [
    "# Dodajemy wartości odpowiednio po indeksach, które również umiemszczamy na wskazanej przez nie pozycji\n",
    "\n",
    "# Należy pamiętać, że aby operacje dodawania lub odejmowania macierzy mogło zaistnieć musimy posiadać macierze tych samych wymiarów"
   ],
   "metadata": {
    "collapsed": false
   }
  },
  {
   "cell_type": "markdown",
   "source": [
    "# 3. Tensory"
   ],
   "metadata": {
    "collapsed": false
   }
  },
  {
   "cell_type": "markdown",
   "source": [
    "### Tensory w Python"
   ],
   "metadata": {
    "collapsed": false
   }
  },
  {
   "cell_type": "code",
   "execution_count": null,
   "outputs": [],
   "source": [
    "# Tensor jest identyfikowany przez trzy parametry, a mianowicie rangę, kształt i rozmiar. O liczbie wymiarów tensora mówi się, że jest jego rangą. Mówi się, że liczba kolumn i wierszy, które ma tensor, jest jego kształtem. Mówi się, że typ danych przypisny do elementów tensora jest jego typem"
   ],
   "metadata": {
    "collapsed": false
   }
  },
  {
   "cell_type": "markdown",
   "source": [
    "### Tworzenie tensorów w Python"
   ],
   "metadata": {
    "collapsed": false
   }
  },
  {
   "cell_type": "code",
   "execution_count": null,
   "outputs": [],
   "source": [
    "# Tensory w Python można tworzyć na kilk sposobów. Jednym z nim jest użycie biblioteki NumPy (np.array()), innym rozwiązaniem jest wykorzystanie biblioteki TensorFlow."
   ],
   "metadata": {
    "collapsed": false
   }
  },
  {
   "cell_type": "markdown",
   "source": [
    "### Tensorflow"
   ],
   "metadata": {
    "collapsed": false
   }
  },
  {
   "cell_type": "code",
   "execution_count": 33,
   "outputs": [
    {
     "name": "stdout",
     "output_type": "stream",
     "text": [
      "tf.Tensor([1 2 3], shape=(3,), dtype=int32) \n",
      "\n",
      "tf.Tensor(\n",
      "[[1.1 2.2 3.3]\n",
      " [4.  5.  6. ]], shape=(2, 3), dtype=float32) \n",
      "\n",
      "tf.Tensor(\n",
      "[[1 2 3]\n",
      " [4 5 6]\n",
      " [7 8 9]], shape=(3, 3), dtype=int32) \n",
      "\n",
      "tf.Tensor([b'String_one' b'String_two' b'String_three'], shape=(3,), dtype=string)\n"
     ]
    }
   ],
   "source": [
    "# using the constant() function\n",
    "import tensorflow as tf\n",
    "\n",
    "t1 = tf.constant([1, 2, 3])\n",
    "t2 = tf.constant([[1.1, 2.2, 3.3], [4, 5, 6]])\n",
    "t3 = tf.constant([[1, 2, 3], [4, 5, 6], [7, 8, 9]])\n",
    "t4 = tf.constant([\"String_one\", \"String_two\", \"String_three\"])\n",
    "\n",
    "print(t1, \"\\n\")\n",
    "print(t2, \"\\n\")\n",
    "print(t3, \"\\n\")\n",
    "print(t4)\n",
    "\n"
   ],
   "metadata": {
    "collapsed": false
   }
  }
 ],
 "metadata": {
  "kernelspec": {
   "display_name": "Python 3 (ipykernel)",
   "language": "python",
   "name": "python3"
  },
  "language_info": {
   "codemirror_mode": {
    "name": "ipython",
    "version": 3
   },
   "file_extension": ".py",
   "mimetype": "text/x-python",
   "name": "python",
   "nbconvert_exporter": "python",
   "pygments_lexer": "ipython3",
   "version": "3.10.7"
  }
 },
 "nbformat": 4,
 "nbformat_minor": 1
}
